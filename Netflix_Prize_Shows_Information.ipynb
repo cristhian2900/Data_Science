{
  "nbformat": 4,
  "nbformat_minor": 0,
  "metadata": {
    "colab": {
      "provenance": [],
      "authorship_tag": "ABX9TyP5sPNR/E0aZXpD4rfTGrBV",
      "include_colab_link": true
    },
    "kernelspec": {
      "name": "python3",
      "display_name": "Python 3"
    },
    "language_info": {
      "name": "python"
    }
  },
  "cells": [
    {
      "cell_type": "markdown",
      "metadata": {
        "id": "view-in-github",
        "colab_type": "text"
      },
      "source": [
        "<a href=\"https://colab.research.google.com/github/cristhian2900/Data_Science/blob/main/Netflix_Prize_Shows_Information.ipynb\" target=\"_parent\"><img src=\"https://colab.research.google.com/assets/colab-badge.svg\" alt=\"Open In Colab\"/></a>"
      ]
    },
    {
      "cell_type": "code",
      "source": [
        "import pandas as pd\n",
        "import os\n",
        "import ast\n",
        "import matplotlib.pyplot as plt\n",
        "import seaborn as sns"
      ],
      "metadata": {
        "id": "LtQu5s7-PLBk"
      },
      "execution_count": 78,
      "outputs": []
    },
    {
      "cell_type": "code",
      "source": [],
      "metadata": {
        "id": "ndtrgJlSVe2T"
      },
      "execution_count": null,
      "outputs": []
    },
    {
      "cell_type": "code",
      "source": [],
      "metadata": {
        "id": "uCJuj1V_ULXs"
      },
      "execution_count": null,
      "outputs": []
    },
    {
      "cell_type": "code",
      "source": [
        "dataset_path = \"/content/netfilx_prices\""
      ],
      "metadata": {
        "id": "AuOY4aFbO5JM"
      },
      "execution_count": 58,
      "outputs": []
    },
    {
      "cell_type": "code",
      "source": [
        "dataset_file = os.path.join(dataset_path, \"imdb.csv\")\n"
      ],
      "metadata": {
        "id": "_b7qDbyoQh86"
      },
      "execution_count": 59,
      "outputs": []
    },
    {
      "cell_type": "code",
      "source": [
        "dataset = pd.read_csv(dataset_file)"
      ],
      "metadata": {
        "id": "ufvdbhGiQkce"
      },
      "execution_count": 60,
      "outputs": []
    },
    {
      "cell_type": "code",
      "source": [
        "print(dataset.head())"
      ],
      "metadata": {
        "colab": {
          "base_uri": "https://localhost:8080/"
        },
        "id": "OVBGFo-OQnue",
        "outputId": "1fec75a0-b30c-4084-d98a-344a3a53e470"
      },
      "execution_count": 61,
      "outputs": [
        {
          "output_type": "stream",
          "name": "stdout",
          "text": [
            "   Unnamed: 0                          title    year            kind  \\\n",
            "0           0                Dinosaur Planet  2003.0  tv mini series   \n",
            "1           1                      Character  2021.0           movie   \n",
            "2           2              Get Up and Dance!  1994.0     video movie   \n",
            "3           3  The Rise and Fall of El Chapo  2016.0        tv movie   \n",
            "4           4                    Sick - IMDb     NaN             NaN   \n",
            "\n",
            "                                    genre  rating   vote            country  \\\n",
            "0  ['Documentary', 'Animation', 'Family']     7.7  474.0  ['United States']   \n",
            "1         ['Crime', 'Horror', 'Thriller']     8.3   46.0          ['Japan']   \n",
            "2                              ['Family']     8.1   18.0  ['United States']   \n",
            "3                         ['Documentary']     6.9   42.0  ['United States']   \n",
            "4                            ['Thriller']     NaN    NaN  ['United States']   \n",
            "\n",
            "       language                                               cast  \\\n",
            "0   ['English']              ['Christian Slater', 'Scott Sampson']   \n",
            "1  ['Japanese']  ['Masaki Suda', 'Fukase', 'Mitsuki Takahata', ...   \n",
            "2   ['English']  ['Paula Abdul', 'Aurorah Allain', 'Bill Bohl',...   \n",
            "3           NaN                                                NaN   \n",
            "4           NaN  ['Marc Menchaca', 'Gideon Adlon', 'Dylan Spray...   \n",
            "\n",
            "            director          composer  \\\n",
            "0                NaN               NaN   \n",
            "1    ['Akira Nagai']  ['Youki Kojima']   \n",
            "2  ['Steve Purcell']               NaN   \n",
            "3                NaN               NaN   \n",
            "4     ['John Hyams']               NaN   \n",
            "\n",
            "                                              writer  runtime  \n",
            "0   ['Mike Carrol', 'Mike Carroll', 'Georgann Kane']     50.0  \n",
            "1  ['Takashi Nagasaki', 'Takashi Nagasaki', 'Anna...    125.0  \n",
            "2                                                NaN     54.0  \n",
            "3                                                NaN     85.0  \n",
            "4              ['Katelyn Crabb', 'Kevin Williamson']      NaN  \n"
          ]
        }
      ]
    },
    {
      "cell_type": "code",
      "source": [
        "dataset.dtypes"
      ],
      "metadata": {
        "colab": {
          "base_uri": "https://localhost:8080/",
          "height": 523
        },
        "id": "3YEpmlOJPtx8",
        "outputId": "06ef6610-988e-424b-f30d-ee0966b5f265"
      },
      "execution_count": 62,
      "outputs": [
        {
          "output_type": "execute_result",
          "data": {
            "text/plain": [
              "Unnamed: 0      int64\n",
              "title          object\n",
              "year          float64\n",
              "kind           object\n",
              "genre          object\n",
              "rating        float64\n",
              "vote          float64\n",
              "country        object\n",
              "language       object\n",
              "cast           object\n",
              "director       object\n",
              "composer       object\n",
              "writer         object\n",
              "runtime       float64\n",
              "dtype: object"
            ],
            "text/html": [
              "<div>\n",
              "<style scoped>\n",
              "    .dataframe tbody tr th:only-of-type {\n",
              "        vertical-align: middle;\n",
              "    }\n",
              "\n",
              "    .dataframe tbody tr th {\n",
              "        vertical-align: top;\n",
              "    }\n",
              "\n",
              "    .dataframe thead th {\n",
              "        text-align: right;\n",
              "    }\n",
              "</style>\n",
              "<table border=\"1\" class=\"dataframe\">\n",
              "  <thead>\n",
              "    <tr style=\"text-align: right;\">\n",
              "      <th></th>\n",
              "      <th>0</th>\n",
              "    </tr>\n",
              "  </thead>\n",
              "  <tbody>\n",
              "    <tr>\n",
              "      <th>Unnamed: 0</th>\n",
              "      <td>int64</td>\n",
              "    </tr>\n",
              "    <tr>\n",
              "      <th>title</th>\n",
              "      <td>object</td>\n",
              "    </tr>\n",
              "    <tr>\n",
              "      <th>year</th>\n",
              "      <td>float64</td>\n",
              "    </tr>\n",
              "    <tr>\n",
              "      <th>kind</th>\n",
              "      <td>object</td>\n",
              "    </tr>\n",
              "    <tr>\n",
              "      <th>genre</th>\n",
              "      <td>object</td>\n",
              "    </tr>\n",
              "    <tr>\n",
              "      <th>rating</th>\n",
              "      <td>float64</td>\n",
              "    </tr>\n",
              "    <tr>\n",
              "      <th>vote</th>\n",
              "      <td>float64</td>\n",
              "    </tr>\n",
              "    <tr>\n",
              "      <th>country</th>\n",
              "      <td>object</td>\n",
              "    </tr>\n",
              "    <tr>\n",
              "      <th>language</th>\n",
              "      <td>object</td>\n",
              "    </tr>\n",
              "    <tr>\n",
              "      <th>cast</th>\n",
              "      <td>object</td>\n",
              "    </tr>\n",
              "    <tr>\n",
              "      <th>director</th>\n",
              "      <td>object</td>\n",
              "    </tr>\n",
              "    <tr>\n",
              "      <th>composer</th>\n",
              "      <td>object</td>\n",
              "    </tr>\n",
              "    <tr>\n",
              "      <th>writer</th>\n",
              "      <td>object</td>\n",
              "    </tr>\n",
              "    <tr>\n",
              "      <th>runtime</th>\n",
              "      <td>float64</td>\n",
              "    </tr>\n",
              "  </tbody>\n",
              "</table>\n",
              "</div><br><label><b>dtype:</b> object</label>"
            ]
          },
          "metadata": {},
          "execution_count": 62
        }
      ]
    },
    {
      "cell_type": "code",
      "source": [
        "dataset['year'] = pd.to_numeric(dataset['year'], errors='coerce').fillna(0).astype(int)  # handle errors and NaNs\n",
        "dataset['rating'] = pd.to_numeric(dataset['rating'], errors='coerce').fillna(0).astype(float)  # handle errors and NaNs\n",
        "dataset['vote'] = pd.to_numeric(dataset['vote'], errors='coerce').fillna(0).astype(int)  # handle errors and NaNs\n",
        "dataset['runtime'] = pd.to_numeric(dataset['runtime'], errors='coerce').fillna(0).astype(int) # handle errors and NaNs\n"
      ],
      "metadata": {
        "id": "Z3nss8HNTGnv"
      },
      "execution_count": 64,
      "outputs": []
    },
    {
      "cell_type": "code",
      "source": [
        "dataset.dtypes"
      ],
      "metadata": {
        "colab": {
          "base_uri": "https://localhost:8080/",
          "height": 523
        },
        "id": "YNM_wrrJTVEs",
        "outputId": "94ecdb8c-3e65-499a-92e0-023ac2cf6ba7"
      },
      "execution_count": 65,
      "outputs": [
        {
          "output_type": "execute_result",
          "data": {
            "text/plain": [
              "Unnamed: 0      int64\n",
              "title          object\n",
              "year            int64\n",
              "kind           object\n",
              "genre          object\n",
              "rating        float64\n",
              "vote            int64\n",
              "country        object\n",
              "language       object\n",
              "cast           object\n",
              "director       object\n",
              "composer       object\n",
              "writer         object\n",
              "runtime         int64\n",
              "dtype: object"
            ],
            "text/html": [
              "<div>\n",
              "<style scoped>\n",
              "    .dataframe tbody tr th:only-of-type {\n",
              "        vertical-align: middle;\n",
              "    }\n",
              "\n",
              "    .dataframe tbody tr th {\n",
              "        vertical-align: top;\n",
              "    }\n",
              "\n",
              "    .dataframe thead th {\n",
              "        text-align: right;\n",
              "    }\n",
              "</style>\n",
              "<table border=\"1\" class=\"dataframe\">\n",
              "  <thead>\n",
              "    <tr style=\"text-align: right;\">\n",
              "      <th></th>\n",
              "      <th>0</th>\n",
              "    </tr>\n",
              "  </thead>\n",
              "  <tbody>\n",
              "    <tr>\n",
              "      <th>Unnamed: 0</th>\n",
              "      <td>int64</td>\n",
              "    </tr>\n",
              "    <tr>\n",
              "      <th>title</th>\n",
              "      <td>object</td>\n",
              "    </tr>\n",
              "    <tr>\n",
              "      <th>year</th>\n",
              "      <td>int64</td>\n",
              "    </tr>\n",
              "    <tr>\n",
              "      <th>kind</th>\n",
              "      <td>object</td>\n",
              "    </tr>\n",
              "    <tr>\n",
              "      <th>genre</th>\n",
              "      <td>object</td>\n",
              "    </tr>\n",
              "    <tr>\n",
              "      <th>rating</th>\n",
              "      <td>float64</td>\n",
              "    </tr>\n",
              "    <tr>\n",
              "      <th>vote</th>\n",
              "      <td>int64</td>\n",
              "    </tr>\n",
              "    <tr>\n",
              "      <th>country</th>\n",
              "      <td>object</td>\n",
              "    </tr>\n",
              "    <tr>\n",
              "      <th>language</th>\n",
              "      <td>object</td>\n",
              "    </tr>\n",
              "    <tr>\n",
              "      <th>cast</th>\n",
              "      <td>object</td>\n",
              "    </tr>\n",
              "    <tr>\n",
              "      <th>director</th>\n",
              "      <td>object</td>\n",
              "    </tr>\n",
              "    <tr>\n",
              "      <th>composer</th>\n",
              "      <td>object</td>\n",
              "    </tr>\n",
              "    <tr>\n",
              "      <th>writer</th>\n",
              "      <td>object</td>\n",
              "    </tr>\n",
              "    <tr>\n",
              "      <th>runtime</th>\n",
              "      <td>int64</td>\n",
              "    </tr>\n",
              "  </tbody>\n",
              "</table>\n",
              "</div><br><label><b>dtype:</b> object</label>"
            ]
          },
          "metadata": {},
          "execution_count": 65
        }
      ]
    },
    {
      "cell_type": "code",
      "source": [
        "list_columns = ['genre', 'country', 'language', 'cast', 'director', 'composer', 'writer']\n",
        "for col in list_columns:\n",
        "    dataset[col] = dataset[col].apply(lambda x: ast.literal_eval(x) if isinstance(x, str) and x.startswith('[') else [])\n"
      ],
      "metadata": {
        "id": "oSeyNeMqTWnO"
      },
      "execution_count": 66,
      "outputs": []
    },
    {
      "cell_type": "code",
      "source": [
        "print(dataset.dtypes)"
      ],
      "metadata": {
        "colab": {
          "base_uri": "https://localhost:8080/"
        },
        "id": "PSwci6doTuEO",
        "outputId": "49af3459-d5bf-47b5-a756-8ea8c0169c52"
      },
      "execution_count": 67,
      "outputs": [
        {
          "output_type": "stream",
          "name": "stdout",
          "text": [
            "Unnamed: 0      int64\n",
            "title          object\n",
            "year            int64\n",
            "kind           object\n",
            "genre          object\n",
            "rating        float64\n",
            "vote            int64\n",
            "country        object\n",
            "language       object\n",
            "cast           object\n",
            "director       object\n",
            "composer       object\n",
            "writer         object\n",
            "runtime         int64\n",
            "dtype: object\n"
          ]
        }
      ]
    },
    {
      "cell_type": "code",
      "source": [
        "print(dataset[['year', 'rating', 'vote', 'runtime']].describe())"
      ],
      "metadata": {
        "colab": {
          "base_uri": "https://localhost:8080/"
        },
        "id": "3aF6IVbLTwbZ",
        "outputId": "dff5560f-b5fd-41a1-b1e6-0f3c86b0b31c"
      },
      "execution_count": 69,
      "outputs": [
        {
          "output_type": "stream",
          "name": "stdout",
          "text": [
            "              year       rating          vote      runtime\n",
            "count  9826.000000  9826.000000  9.826000e+03  9826.000000\n",
            "mean   1980.529310     6.084368  1.932442e+04    87.529819\n",
            "std     168.549933     2.265474  9.376581e+04    67.396130\n",
            "min       0.000000     0.000000  0.000000e+00     0.000000\n",
            "25%    1989.000000     5.600000  1.390000e+02    60.000000\n",
            "50%    1999.000000     6.700000  1.123500e+03    91.000000\n",
            "75%    2003.000000     7.500000  6.337250e+03   107.000000\n",
            "max    2023.000000     9.600000  2.462087e+06  1620.000000\n"
          ]
        }
      ]
    },
    {
      "cell_type": "code",
      "source": [
        "dataset['rating'].hist()\n",
        "plt.title('Distribution of Ratings')\n",
        "plt.xlabel('Rating')\n",
        "plt.ylabel('Frequency')\n",
        "plt.show()"
      ],
      "metadata": {
        "colab": {
          "base_uri": "https://localhost:8080/",
          "height": 472
        },
        "id": "AX_fIXHGUO4P",
        "outputId": "d3ce6bfc-f25f-475e-9fcf-3ebfd470e27c"
      },
      "execution_count": 70,
      "outputs": [
        {
          "output_type": "display_data",
          "data": {
            "text/plain": [
              "<Figure size 640x480 with 1 Axes>"
            ],
            "image/png": "[encoded data removed]"
          },
          "metadata": {}
        }
      ]
    },
    {
      "cell_type": "code",
      "source": [
        "plt.scatter(dataset['year'], dataset['rating'])\n",
        "plt.title('Rating vs. Year')\n",
        "plt.xlabel('Year')\n",
        "plt.ylabel('Rating')\n",
        "plt.show()"
      ],
      "metadata": {
        "colab": {
          "base_uri": "https://localhost:8080/",
          "height": 472
        },
        "id": "lGOWJpNDUUkq",
        "outputId": "698463c3-09bc-4527-ad12-8b860ae37926"
      },
      "execution_count": 72,
      "outputs": [
        {
          "output_type": "display_data",
          "data": {
            "text/plain": [
              "<Figure size 640x480 with 1 Axes>"
            ],
            "image/png": "[encoded data removed]"
          },
          "metadata": {}
        }
      ]
    },
    {
      "cell_type": "code",
      "source": [
        "dataset['kind'].value_counts().plot(kind='bar')\n",
        "plt.title('Frequency of Movie Types')\n",
        "plt.xlabel('Movie Type')\n",
        "plt.ylabel('Count')\n",
        "plt.show()"
      ],
      "metadata": {
        "colab": {
          "base_uri": "https://localhost:8080/",
          "height": 551
        },
        "id": "rZuJJOQtUeGs",
        "outputId": "ac277594-e4fb-423e-ce6f-e2bc971da510"
      },
      "execution_count": 74,
      "outputs": [
        {
          "output_type": "display_data",
          "data": {
            "text/plain": [
              "<Figure size 640x480 with 1 Axes>"
            ],
            "image/png": "[encoded data removed]"
          },
          "metadata": {}
        }
      ]
    },
    {
      "cell_type": "code",
      "source": [
        "#feature engineering\n",
        "dataset['title_length'] = dataset['title'].astype(str).apply(len)\n",
        "dataset['num_genres'] = dataset['genre'].apply(len)\n",
        "dataset['is_movie'] = dataset['kind'].apply(lambda x: 1 if x == 'movie' else 0)\n"
      ],
      "metadata": {
        "id": "BZ0echnVUmav"
      },
      "execution_count": 77,
      "outputs": []
    },
    {
      "cell_type": "code",
      "source": [
        "correlation_matrix = dataset[['rating', 'vote', 'runtime', 'year']].corr()\n",
        "sns.heatmap(correlation_matrix, annot=True, cmap='coolwarm')\n",
        "plt.title('Correlation Matrix')\n",
        "plt.show()"
      ],
      "metadata": {
        "colab": {
          "base_uri": "https://localhost:8080/",
          "height": 452
        },
        "id": "82JsGZ7QVL7e",
        "outputId": "c8f23e32-cc86-4a5b-c851-601ae4bcf9d0"
      },
      "execution_count": 79,
      "outputs": [
        {
          "output_type": "display_data",
          "data": {
            "text/plain": [
              "<Figure size 640x480 with 2 Axes>"
            ],
            "image/png": "[encoded data removed]"
          },
          "metadata": {}
        }
      ]
    },
    {
      "cell_type": "code",
      "source": [],
      "metadata": {
        "id": "94yA4t5RVjI8"
      },
      "execution_count": null,
      "outputs": []
    },
    {
      "cell_type": "code",
      "source": [],
      "metadata": {
        "id": "PrLJrSkRVCXP"
      },
      "execution_count": null,
      "outputs": []
    },
    {
      "cell_type": "code",
      "source": [],
      "metadata": {
        "id": "j0fbHTODVAyy"
      },
      "execution_count": null,
      "outputs": []
    },
    {
      "cell_type": "code",
      "source": [],
      "metadata": {
        "id": "I8V4H-CIUkEh"
      },
      "execution_count": null,
      "outputs": []
    },
    {
      "cell_type": "code",
      "source": [],
      "metadata": {
        "id": "lUKWAXa4Ubdb"
      },
      "execution_count": null,
      "outputs": []
    },
    {
      "cell_type": "code",
      "source": [],
      "metadata": {
        "id": "iMit8joXTRpJ"
      },
      "execution_count": null,
      "outputs": []
    },
    {
      "cell_type": "code",
      "source": [],
      "metadata": {
        "id": "_6hJHOyMTRr7"
      },
      "execution_count": null,
      "outputs": []
    },
    {
      "cell_type": "code",
      "source": [
        "\"\"\"\n",
        "1. Can we design a recommendation system that suggests similar content to users based on their preferences (e.g., previously watched genres, languages, and ratings)\n",
        "2. How can Netflix titles be grouped into clusters based on features such as genre, runtime, release year, and language?\n",
        "3. Can we classify Netflix titles into their respective genres based on attributes such as runtime, IMDb rating, and language?\n",
        "\"\"\""
      ],
      "metadata": {
        "colab": {
          "base_uri": "https://localhost:8080/",
          "height": 70
        },
        "id": "adHkgD8GM6Xq",
        "outputId": "54d64989-d22c-4b5c-9d45-f117b18ea17f"
      },
      "execution_count": 23,
      "outputs": [
        {
          "output_type": "execute_result",
          "data": {
            "text/plain": [
              "' \\n1. Can we design a recommendation system that suggests similar content to users based on their preferences (e.g., previously watched genres, languages, and ratings)\\n2. How can Netflix titles be grouped into clusters based on features such as genre, runtime, release year, and language?\\n'"
            ],
            "application/vnd.google.colaboratory.intrinsic+json": {
              "type": "string"
            }
          },
          "metadata": {},
          "execution_count": 23
        }
      ]
    },
    {
      "cell_type": "code",
      "source": [],
      "metadata": {
        "id": "srX4VUWTOEZJ"
      },
      "execution_count": 44,
      "outputs": []
    },
    {
      "cell_type": "code",
      "source": [
        "def convert_to_list(x):\n",
        "  try:\n",
        "    return ast.literal_eval(x)\n",
        "  except (SyntaxError, ValueError):\n",
        "    return []\n"
      ],
      "metadata": {
        "id": "Mtf1-GSgRmR-"
      },
      "execution_count": 49,
      "outputs": []
    },
    {
      "cell_type": "code",
      "source": [
        "dataset['genre'] = dataset['genre'].apply(convert_to_list)\n",
        "dataset['country'] = dataset['country'].apply(convert_to_list)\n",
        "dataset['language'] = dataset['language'].apply(convert_to_list)\n"
      ],
      "metadata": {
        "id": "_8BmMUCqR2v1"
      },
      "execution_count": 51,
      "outputs": []
    },
    {
      "cell_type": "code",
      "source": [
        "dataset.fillna('', inplace=True)"
      ],
      "metadata": {
        "colab": {
          "base_uri": "https://localhost:8080/"
        },
        "id": "jEIt-rL2Sv4z",
        "outputId": "1bfd36f7-93b1-4ec9-9cad-c21cf90a90f5"
      },
      "execution_count": 52,
      "outputs": [
        {
          "output_type": "stream",
          "name": "stderr",
          "text": [
            "<ipython-input-52-ba057eef1c2b>:1: FutureWarning: Setting an item of incompatible dtype is deprecated and will raise an error in a future version of pandas. Value '' has dtype incompatible with float64, please explicitly cast to a compatible dtype first.\n",
            "  dataset.fillna('', inplace=True)\n"
          ]
        }
      ]
    },
    {
      "cell_type": "code",
      "source": [
        "print(dataset.head( ))"
      ],
      "metadata": {
        "colab": {
          "base_uri": "https://localhost:8080/"
        },
        "id": "PlUfyzUkS0AL",
        "outputId": "984e4381-d030-43ee-e064-2a6382ddd24a"
      },
      "execution_count": 53,
      "outputs": [
        {
          "output_type": "stream",
          "name": "stdout",
          "text": [
            "                           title    year            kind  \\\n",
            "0                Dinosaur Planet  2003.0  tv mini series   \n",
            "1                      Character  2021.0           movie   \n",
            "2              Get Up and Dance!  1994.0     video movie   \n",
            "3  The Rise and Fall of El Chapo  2016.0        tv movie   \n",
            "4                    Sick - IMDb                           \n",
            "\n",
            "                              genre rating   vote          country  \\\n",
            "0  [Documentary, Animation, Family]    7.7  474.0  [United States]   \n",
            "1         [Crime, Horror, Thriller]    8.3   46.0          [Japan]   \n",
            "2                          [Family]    8.1   18.0  [United States]   \n",
            "3                     [Documentary]    6.9   42.0  [United States]   \n",
            "4                        [Thriller]                [United States]   \n",
            "\n",
            "     language                                               cast  \\\n",
            "0   [English]              ['Christian Slater', 'Scott Sampson']   \n",
            "1  [Japanese]  ['Masaki Suda', 'Fukase', 'Mitsuki Takahata', ...   \n",
            "2   [English]  ['Paula Abdul', 'Aurorah Allain', 'Bill Bohl',...   \n",
            "3          []                                                      \n",
            "4          []  ['Marc Menchaca', 'Gideon Adlon', 'Dylan Spray...   \n",
            "\n",
            "            director          composer  \\\n",
            "0                                        \n",
            "1    ['Akira Nagai']  ['Youki Kojima']   \n",
            "2  ['Steve Purcell']                     \n",
            "3                                        \n",
            "4     ['John Hyams']                     \n",
            "\n",
            "                                              writer runtime  \n",
            "0   ['Mike Carrol', 'Mike Carroll', 'Georgann Kane']    50.0  \n",
            "1  ['Takashi Nagasaki', 'Takashi Nagasaki', 'Anna...   125.0  \n",
            "2                                                       54.0  \n",
            "3                                                       85.0  \n",
            "4              ['Katelyn Crabb', 'Kevin Williamson']          \n"
          ]
        }
      ]
    },
    {
      "cell_type": "code",
      "source": [],
      "metadata": {
        "id": "iMOlNUe3S4lC"
      },
      "execution_count": null,
      "outputs": []
    },
    {
      "cell_type": "code",
      "source": [],
      "metadata": {
        "id": "wBcqjiAOSptL"
      },
      "execution_count": null,
      "outputs": []
    },
    {
      "cell_type": "code",
      "source": [],
      "metadata": {
        "id": "VgP8JGcKSZGO"
      },
      "execution_count": null,
      "outputs": []
    },
    {
      "cell_type": "code",
      "source": [],
      "metadata": {
        "id": "18u0Evz2ST9g"
      },
      "execution_count": null,
      "outputs": []
    },
    {
      "cell_type": "code",
      "source": [],
      "metadata": {
        "id": "NKh7d3x1OCyo"
      },
      "execution_count": null,
      "outputs": []
    },
    {
      "cell_type": "code",
      "source": [],
      "metadata": {
        "id": "v-BZbD12MaHn"
      },
      "execution_count": null,
      "outputs": []
    },
    {
      "cell_type": "code",
      "source": [],
      "metadata": {
        "id": "LreRH-5KMGB4"
      },
      "execution_count": null,
      "outputs": []
    },
    {
      "cell_type": "code",
      "source": [],
      "metadata": {
        "id": "FkQbVt-3JmQv"
      },
      "execution_count": 10,
      "outputs": []
    },
    {
      "cell_type": "code",
      "source": [
        "print(file_name)"
      ],
      "metadata": {
        "colab": {
          "base_uri": "https://localhost:8080/"
        },
        "id": "sAlZM-QwJqsR",
        "outputId": "f1b03e3d-ccb2-4a3e-ad3d-adb3b13c353f"
      },
      "execution_count": 11,
      "outputs": [
        {
          "output_type": "stream",
          "name": "stdout",
          "text": [
            "netflix_titles.csv\n"
          ]
        }
      ]
    },
    {
      "cell_type": "code",
      "source": [
        "#Can we predict the IMDb rating or popularity score of a Netflix title based on its attributes (e.g., genre, runtime, year, country, and language)?"
      ],
      "metadata": {
        "id": "gA6j0G-4KG1O"
      },
      "execution_count": null,
      "outputs": []
    },
    {
      "cell_type": "code",
      "source": [],
      "metadata": {
        "id": "Et1yaPHRI-pF"
      },
      "execution_count": 5,
      "outputs": []
    }
  ]
}